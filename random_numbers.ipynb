{
 "cells": [
  {
   "cell_type": "code",
   "execution_count": 1,
   "id": "173c26f3",
   "metadata": {},
   "outputs": [],
   "source": [
    "# Import the random module.\n",
    "import random"
   ]
  },
  {
   "cell_type": "code",
   "execution_count": 2,
   "id": "872161ce",
   "metadata": {},
   "outputs": [
    {
     "data": {
      "text/plain": [
       "-39"
      ]
     },
     "execution_count": 2,
     "metadata": {},
     "output_type": "execute_result"
    }
   ],
   "source": [
    "random.randint(-90,90)"
   ]
  },
  {
   "cell_type": "code",
   "execution_count": 3,
   "id": "7f2d68b0",
   "metadata": {},
   "outputs": [
    {
     "data": {
      "text/plain": [
       "0.9268856152320409"
      ]
     },
     "execution_count": 3,
     "metadata": {},
     "output_type": "execute_result"
    }
   ],
   "source": [
    "random.random()"
   ]
  },
  {
   "cell_type": "code",
   "execution_count": 4,
   "id": "d7a44e37",
   "metadata": {},
   "outputs": [
    {
     "data": {
      "text/plain": [
       "73.6301491439942"
      ]
     },
     "execution_count": 4,
     "metadata": {},
     "output_type": "execute_result"
    }
   ],
   "source": [
    "#combine both random functions to get random weather data\n",
    "random_number = random.randint(-90,89) + random.random()\n",
    "random_number"
   ]
  },
  {
   "cell_type": "code",
   "execution_count": 8,
   "id": "47a0c0ed",
   "metadata": {},
   "outputs": [
    {
     "data": {
      "text/plain": [
       "[-25.833924363851374,\n",
       " 32.86387172944661,\n",
       " -70.07844807415754,\n",
       " -83.0417573853134,\n",
       " -72.60032121956071,\n",
       " 56.05615080592446,\n",
       " -27.72075665504639,\n",
       " 13.404295174857202,\n",
       " -0.04518452655153071,\n",
       " -77.26369784671807]"
      ]
     },
     "execution_count": 8,
     "metadata": {},
     "output_type": "execute_result"
    }
   ],
   "source": [
    "#Create algorithm to generate latituded between -90 and 89\n",
    "x = 1\n",
    "latitudes = []\n",
    "while x < 11:\n",
    "    random_lat = random.randint(-90, 89) + random.random()\n",
    "    latitudes.append(random_lat)\n",
    "    x += 1\n",
    "latitudes"
   ]
  },
  {
   "cell_type": "code",
   "execution_count": 15,
   "id": "be53b921",
   "metadata": {},
   "outputs": [
    {
     "data": {
      "text/plain": [
       "1"
      ]
     },
     "execution_count": 15,
     "metadata": {},
     "output_type": "execute_result"
    }
   ],
   "source": [
    "#Test the randrange() function\n",
    "random.randrange(-90,90, step=1)"
   ]
  },
  {
   "cell_type": "code",
   "execution_count": 16,
   "id": "1cab3264",
   "metadata": {},
   "outputs": [
    {
     "data": {
      "text/plain": [
       "54"
      ]
     },
     "execution_count": 16,
     "metadata": {},
     "output_type": "execute_result"
    }
   ],
   "source": [
    "random.randrange(-90,90, step=3)"
   ]
  },
  {
   "cell_type": "code",
   "execution_count": 17,
   "id": "79c489d7",
   "metadata": {},
   "outputs": [
    {
     "data": {
      "text/plain": [
       "-87.92973525356997"
      ]
     },
     "execution_count": 17,
     "metadata": {},
     "output_type": "execute_result"
    }
   ],
   "source": [
    "#Test the uniform function\n",
    "random.uniform(-90, 90)"
   ]
  },
  {
   "cell_type": "code",
   "execution_count": 18,
   "id": "074cdcb6",
   "metadata": {},
   "outputs": [],
   "source": [
    "# Import the NumPy module.\n",
    "import numpy as np"
   ]
  },
  {
   "cell_type": "code",
   "execution_count": 19,
   "id": "971546f8",
   "metadata": {},
   "outputs": [
    {
     "data": {
      "text/plain": [
       "-32.22255037125743"
      ]
     },
     "execution_count": 19,
     "metadata": {},
     "output_type": "execute_result"
    }
   ],
   "source": [
    "np.random.uniform(-90.000, 90.000)"
   ]
  },
  {
   "cell_type": "code",
   "execution_count": 20,
   "id": "50360445",
   "metadata": {},
   "outputs": [
    {
     "data": {
      "text/plain": [
       "-86.4598213579305"
      ]
     },
     "execution_count": 20,
     "metadata": {},
     "output_type": "execute_result"
    }
   ],
   "source": [
    "np.random.uniform(low=-90, high=90)"
   ]
  },
  {
   "cell_type": "code",
   "execution_count": 21,
   "id": "afd0005b",
   "metadata": {},
   "outputs": [
    {
     "data": {
      "text/plain": [
       "array([-69.29473259,  58.44222434, -81.2320991 , -52.36101746,\n",
       "        11.25875417,   6.24077657, -16.81218428, -48.15000333,\n",
       "       -13.466196  ,  22.72612262,  20.47460989,  85.3744054 ,\n",
       "         1.55864033,  35.0723668 , -71.31740455, -60.70402609,\n",
       "         0.94145092,  -9.36382141, -22.38064497,   7.03863667,\n",
       "        37.25046094,  37.26178432, -43.44839063, -60.1816332 ,\n",
       "        42.30390574,  40.93370228, -14.04132877,  68.73663583,\n",
       "       -83.35237101, -81.07471186, -25.72565789,  56.27119791,\n",
       "        35.54647362,  -4.68634438, -22.03030776,  62.67194439,\n",
       "        10.28218969,  83.63906683,  16.79407339, -72.9638899 ,\n",
       "        65.38515445,  18.71680244, -88.22743182,  75.59093236,\n",
       "       -61.55029149,  -2.86869323,   4.86836065,  79.89226732,\n",
       "       -68.83365532, -89.47642992])"
      ]
     },
     "execution_count": 21,
     "metadata": {},
     "output_type": "execute_result"
    }
   ],
   "source": [
    "np.random.uniform(-90.000, 90.000, size=50)"
   ]
  },
  {
   "cell_type": "code",
   "execution_count": 22,
   "id": "4160457f",
   "metadata": {},
   "outputs": [],
   "source": [
    "# Import timeit.\n",
    "import timeit"
   ]
  },
  {
   "cell_type": "code",
   "execution_count": 23,
   "id": "9259c236",
   "metadata": {},
   "outputs": [
    {
     "name": "stdout",
     "output_type": "stream",
     "text": [
      "17.6 µs ± 168 ns per loop (mean ± std. dev. of 7 runs, 100000 loops each)\n"
     ]
    }
   ],
   "source": [
    "%timeit np.random.uniform(-90.000, 90.000, size=1500)"
   ]
  },
  {
   "cell_type": "code",
   "execution_count": 24,
   "id": "04126c94",
   "metadata": {},
   "outputs": [
    {
     "name": "stdout",
     "output_type": "stream",
     "text": [
      "1.66 ms ± 7.5 µs per loop (mean ± std. dev. of 7 runs, 1000 loops each)\n"
     ]
    }
   ],
   "source": [
    "def latitudes(size):\n",
    "    latitudes = []\n",
    "    x = 0\n",
    "    while x < (size):\n",
    "        random_lat = random.randint(-90, 90) + random.random()\n",
    "        latitudes.append(random_lat)\n",
    "        x += 1\n",
    "    return latitudes\n",
    "# Call the function with 1500.\n",
    "%timeit latitudes(1500)"
   ]
  },
  {
   "cell_type": "code",
   "execution_count": 25,
   "id": "8205a699",
   "metadata": {},
   "outputs": [],
   "source": [
    "#Therefore \"np.random.uniform(-90.000, 90.000, size=1500)''\n",
    "#is 100 times faster and the code is shorter"
   ]
  },
  {
   "cell_type": "code",
   "execution_count": 37,
   "id": "955a5071",
   "metadata": {},
   "outputs": [
    {
     "name": "stdout",
     "output_type": "stream",
     "text": [
      "1.69 ms ± 55.2 µs per loop (mean ± std. dev. of 7 runs, 1000 loops each)\n"
     ]
    }
   ],
   "source": [
    "#Skill drill: refactor the code for a for loop:\n",
    "def latitudes(size):\n",
    "    latitudes = []\n",
    "    x = 1\n",
    "    for x in range(1500):\n",
    "        random_lat = random.randint(-90, 90) + random.random()\n",
    "        latitudes.append(random_lat)\n",
    "        x += 1\n",
    "    return latitudes\n",
    "# Call the function with 1500.\n",
    "%timeit latitudes(1500)"
   ]
  },
  {
   "cell_type": "code",
   "execution_count": null,
   "id": "f4e0df0e",
   "metadata": {},
   "outputs": [],
   "source": []
  }
 ],
 "metadata": {
  "kernelspec": {
   "display_name": "PythonData",
   "language": "python",
   "name": "pythondata"
  },
  "language_info": {
   "codemirror_mode": {
    "name": "ipython",
    "version": 3
   },
   "file_extension": ".py",
   "mimetype": "text/x-python",
   "name": "python",
   "nbconvert_exporter": "python",
   "pygments_lexer": "ipython3",
   "version": "3.8.5"
  }
 },
 "nbformat": 4,
 "nbformat_minor": 5
}
